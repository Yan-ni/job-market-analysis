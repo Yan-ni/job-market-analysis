{
  "cells": [
    {
      "cell_type": "code",
      "execution_count": 81,
      "metadata": {},
      "outputs": [],
      "source": [
        "# Imports\n",
        "import sqlite3\n",
        "import pandas as pd\n",
        "import re\n",
        "import os"
      ]
    },
    {
      "cell_type": "code",
      "execution_count": 82,
      "metadata": {},
      "outputs": [],
      "source": [
        "# Connecting the database\n",
        "DATABASE_PATH = os.path.join('..', '..', 'dist', 'database.sqlite')\n",
        "con = sqlite3.connect(DATABASE_PATH)\n",
        "SCRAPE_ID=1"
      ]
    },
    {
      "cell_type": "code",
      "execution_count": 83,
      "metadata": {},
      "outputs": [],
      "source": [
        "# Reading the database\n",
        "df = pd.read_sql_query(f\"\"\"SELECT\n",
        "  id,\n",
        "  job_url,\n",
        "  job_title,\n",
        "  company_name,\n",
        "  company_description,\n",
        "  job_description,\n",
        "  preferred_experience,\n",
        "  recruitement_process\n",
        "  FROM job_offers WHERE scrape_id={SCRAPE_ID}\"\"\", con)"
      ]
    },
    {
      "cell_type": "code",
      "execution_count": 84,
      "metadata": {},
      "outputs": [],
      "source": [
        "df = df.set_index('id')"
      ]
    },
    {
      "cell_type": "code",
      "execution_count": 85,
      "metadata": {},
      "outputs": [],
      "source": [
        "df = df.dropna(subset=['job_url', 'job_title'])"
      ]
    },
    {
      "cell_type": "code",
      "execution_count": 86,
      "metadata": {},
      "outputs": [],
      "source": [
        "# Trimming the job url parameters\n",
        "df['job_url'] = df['job_url'].str.split('?').str[0]"
      ]
    },
    {
      "cell_type": "code",
      "execution_count": 87,
      "metadata": {},
      "outputs": [],
      "source": [
        "df = df.drop_duplicates(subset='job_url')"
      ]
    },
    {
      "cell_type": "code",
      "execution_count": 88,
      "metadata": {},
      "outputs": [],
      "source": [
        "regex = {\n",
        "    'Excel': r'\\bExcel\\b',\n",
        "    'VBA': r'\\bVBA\\b',\n",
        "    'R': r'\\bR($|[\\s\\.\\,])',\n",
        "    'Python': r'\\bPython\\b',\n",
        "    'SQL': r'\\b\\w*SQL\\w*\\b',\n",
        "    'Power BI': r'\\bPower\\s?BI\\b',\n",
        "    'Tableau': r'\\bTableau\\b',\n",
        "    'Looker': r'\\bLooker\\b'\n",
        "}\n",
        "\n",
        "def contains_word(text: str, word: str) -> bool:\n",
        "    \"\"\" Checks if a word in contained in a text\"\"\"\n",
        "    if text is not None and isinstance(text, str):\n",
        "        pattern = re.compile(regex[word], flags=re.IGNORECASE)\n",
        "        return bool(pattern.search(text))\n",
        "    return False"
      ]
    },
    {
      "cell_type": "code",
      "execution_count": 89,
      "metadata": {},
      "outputs": [],
      "source": [
        "# TODO: use fuzzy string search to match misspelled words and get better accuracy\n",
        "words_to_check = ['Excel', 'VBA', 'R', 'Python', 'SQL', 'Power BI', 'Tableau', 'Looker']\n",
        "result_df = pd.DataFrame(columns=['job_offer_id'] + words_to_check)\n",
        "result_df = result_df.set_index('job_offer_id')"
      ]
    },
    {
      "cell_type": "code",
      "execution_count": 90,
      "metadata": {},
      "outputs": [],
      "source": [
        "columns = ['job_description', 'preferred_experience', 'recruitement_process'] # columns to check the keywords in\n",
        "\n",
        "for index, row in df[columns].iterrows():\n",
        "    result_row = {}\n",
        "    for word in words_to_check:\n",
        "        result_row[word] = int(contains_word(row['job_description'], word) or contains_word(row['preferred_experience'], word) or contains_word(row['recruitement_process'], word))\n",
        "    result_df.loc[index] = result_row\n",
        "    result_df\n"
      ]
    },
    {
      "cell_type": "code",
      "execution_count": 91,
      "metadata": {},
      "outputs": [],
      "source": [
        "# Drop all the rows where all the columns are equal to 0\n",
        "result_df = result_df.drop(result_df[(result_df == 0).all(axis=1)].index)"
      ]
    },
    {
      "cell_type": "code",
      "execution_count": 93,
      "metadata": {},
      "outputs": [],
      "source": [
        "# Export\n",
        "SAVE_DIR=os.path.join('..', '..', 'dist')\n",
        "SAVE_PATH_EXCEL=os.path.join(SAVE_DIR, 'output.xlsx')\n",
        "\n",
        "result_df.to_excel(SAVE_PATH_EXCEL)"
      ]
    }
  ],
  "metadata": {
    "kernelspec": {
      "display_name": ".venv",
      "language": "python",
      "name": "python3"
    },
    "language_info": {
      "codemirror_mode": {
        "name": "ipython",
        "version": 3
      },
      "file_extension": ".py",
      "mimetype": "text/x-python",
      "name": "python",
      "nbconvert_exporter": "python",
      "pygments_lexer": "ipython3",
      "version": "3.11.6"
    }
  },
  "nbformat": 4,
  "nbformat_minor": 2
}
